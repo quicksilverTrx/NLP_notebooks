{
  "nbformat": 4,
  "nbformat_minor": 0,
  "metadata": {
    "kernelspec": {
      "display_name": "Python 2",
      "language": "python",
      "name": "python2"
    },
    "language_info": {
      "codemirror_mode": {
        "name": "ipython",
        "version": 2
      },
      "file_extension": ".py",
      "mimetype": "text/x-python",
      "name": "python",
      "nbconvert_exporter": "python",
      "pygments_lexer": "ipython2",
      "version": "2.7.6"
    },
    "colab": {
      "name": "1.Basics_NLP.ipynb",
      "provenance": [],
      "toc_visible": true,
      "include_colab_link": true
    }
  },
  "cells": [
    {
      "cell_type": "markdown",
      "metadata": {
        "id": "view-in-github",
        "colab_type": "text"
      },
      "source": [
        "<a href=\"https://colab.research.google.com/github/quicksilverTrx/NLP_notebooks/blob/main/1_Basics_NLP.ipynb\" target=\"_parent\"><img src=\"https://colab.research.google.com/assets/colab-badge.svg\" alt=\"Open In Colab\"/></a>"
      ]
    },
    {
      "cell_type": "markdown",
      "metadata": {
        "id": "Ipe6L9Aew92h"
      },
      "source": [
        "# Introduction - File Opening"
      ]
    },
    {
      "cell_type": "markdown",
      "metadata": {
        "id": "kQjV0DrLw92j"
      },
      "source": [
        "## Opening a file"
      ]
    },
    {
      "cell_type": "markdown",
      "metadata": {
        "id": "VAJcyvOKw92k"
      },
      "source": [
        "<p>To open a file for writing use the built-i open() function. open() returns a file object, and is most commonly used with two arguments.<br/>\n",
        "\n",
        "The syntax is:<br/>\n",
        "file_object = open(filename, mode)<br/>\n",
        "where file_object is the variable to put the file object. The second argument describes the way in which the file will be used.\n",
        "</p>"
      ]
    },
    {
      "cell_type": "code",
      "metadata": {
        "colab": {
          "base_uri": "https://localhost:8080/"
        },
        "id": "XA8NlpLe2sw5",
        "outputId": "15970563-e3a6-4e1b-9700-889092bf99c1"
      },
      "source": [
        "!git clone https://github.com/quicksilverTrx/NLP_notebooks/"
      ],
      "execution_count": 1,
      "outputs": [
        {
          "output_type": "stream",
          "text": [
            "Cloning into 'NLP_notebooks'...\n",
            "remote: Enumerating objects: 65, done.\u001b[K\n",
            "remote: Counting objects: 100% (65/65), done.\u001b[K\n",
            "remote: Compressing objects: 100% (59/59), done.\u001b[K\n",
            "remote: Total 65 (delta 2), reused 0 (delta 0), pack-reused 0\u001b[K\n",
            "Unpacking objects: 100% (65/65), done.\n"
          ],
          "name": "stdout"
        }
      ]
    },
    {
      "cell_type": "code",
      "metadata": {
        "id": "KjiTHPgtw92k"
      },
      "source": [
        "file = open('/content/NLP_notebooks/data/Basics_NLP/gaur.txt', 'r')"
      ],
      "execution_count": 3,
      "outputs": []
    },
    {
      "cell_type": "markdown",
      "metadata": {
        "id": "4o5HaSh7w92l"
      },
      "source": [
        "**Note-:** The command \"open('newfile.txt', 'r')\" doesn't return the contents of the file. It actually makes something called a \"file object.\" You can think of a file like an old tape drive that you saw on mainframe computers in the 1950s, or even like a DVD player from today. You can move around inside them, and then \"read\" them, but the DVD player is not the DVD the same way the file object is not the file's contents."
      ]
    },
    {
      "cell_type": "markdown",
      "metadata": {
        "id": "8vZCbEb-w92m"
      },
      "source": [
        "## Reading a file\n",
        "\n",
        "If you want to return a string containing all characters in the file, you can\n",
        "use file.read()."
      ]
    },
    {
      "cell_type": "code",
      "metadata": {
        "colab": {
          "base_uri": "https://localhost:8080/"
        },
        "id": "us5jZdvsw92m",
        "outputId": "36225234-a337-4819-a09a-3f1d2babd170"
      },
      "source": [
        "file = open('/content/NLP_notebooks/data/Basics_NLP/gaur.txt', 'r')\n",
        "\n",
        "print (file.read())"
      ],
      "execution_count": 4,
      "outputs": [
        {
          "output_type": "stream",
          "text": [
            "Love is everlasting Forgiveness.\n",
            "Having free time is not an opulence, it's a danger.\n",
            "Krishna is the Supreme Personality of Godhead. \n"
          ],
          "name": "stdout"
        }
      ]
    },
    {
      "cell_type": "markdown",
      "metadata": {
        "id": "O23kLKFAw92n"
      },
      "source": [
        "We can also specify how many characters the string should return, by using\n",
        "file.read(n), where \"n\" determines number of characters.<br/>\n",
        "\n",
        "This reads the first 5 characters of data and returns it as a string."
      ]
    },
    {
      "cell_type": "code",
      "metadata": {
        "colab": {
          "base_uri": "https://localhost:8080/"
        },
        "id": "-MB94XQXw92n",
        "outputId": "372681c6-3d54-4f35-915f-d145c61a843e"
      },
      "source": [
        "file = open('/content/NLP_notebooks/data/Basics_NLP/gaur.txt', 'r')\n",
        "\n",
        "print (file.read(7))"
      ],
      "execution_count": 5,
      "outputs": [
        {
          "output_type": "stream",
          "text": [
            "Love is\n"
          ],
          "name": "stdout"
        }
      ]
    },
    {
      "cell_type": "markdown",
      "metadata": {
        "id": "njLpig9jw92o"
      },
      "source": [
        "## Reading multiple files from a folder\n",
        "\n",
        "The method listdir() returns a list containing the names of the entries in the directory given by path. The list is in arbitrary order. It does not include the special entries '.' and '..' even if they are present in the directory."
      ]
    },
    {
      "cell_type": "code",
      "metadata": {
        "colab": {
          "base_uri": "https://localhost:8080/"
        },
        "id": "dPvH23Cqw92o",
        "outputId": "a247dc69-1e3e-4300-f270-ed1448b89853"
      },
      "source": [
        "import os\n",
        "\n",
        "for fileName in os.listdir(\"/content/NLP_notebooks/data/Basics_NLP/dirForBasics_NLP\"):\n",
        "    if fileName.endswith(\".txt\"):\n",
        "        print(fileName)"
      ],
      "execution_count": 6,
      "outputs": [
        {
          "output_type": "stream",
          "text": [
            "test2.txt\n",
            "test1.txt\n"
          ],
          "name": "stdout"
        }
      ]
    },
    {
      "cell_type": "markdown",
      "metadata": {
        "id": "b4Tf9AQ-w92p"
      },
      "source": [
        "## Reading a file with size greater than RAM\n",
        "\n",
        "If the size of the file is very large then it can't be opened directly and the system may hang in an attempt to do so. So we use lazy loading of the file that reads the data in chunks"
      ]
    },
    {
      "cell_type": "code",
      "metadata": {
        "id": "f1mDs6FDw92p"
      },
      "source": [
        "def read_in_chunks(file_object, chunk_size=1024):\n",
        "    \"\"\"Lazy function (generator) to read a file piece by piece.\n",
        "    Default chunk size: 1k.\"\"\"\n",
        "    while True:\n",
        "        data = file_object.read(chunk_size)\n",
        "        if not data:\n",
        "            break\n",
        "        yield data\n",
        "\n",
        "\n",
        "f = open('/content/NLP_notebooks/data/Basics_NLP/nitai.pdf')\n",
        "for piece in read_in_chunks(f):\n",
        "    read_in_chunks(piece)"
      ],
      "execution_count": 7,
      "outputs": []
    },
    {
      "cell_type": "markdown",
      "metadata": {
        "id": "yIbV5dsEw92p"
      },
      "source": [
        "## Lazy loading of a gzip file"
      ]
    },
    {
      "cell_type": "code",
      "metadata": {
        "colab": {
          "base_uri": "https://localhost:8080/"
        },
        "id": "IF9gpX3iw92q",
        "outputId": "d64282db-7794-4b3a-c2a7-29a20b8df977"
      },
      "source": [
        "import gzip\n",
        "f=gzip.open('/content/NLP_notebooks/data/Basics_NLP/errors.css.gz','rb')\n",
        "file_content=f.read()\n",
        "print (file_content)"
      ],
      "execution_count": 9,
      "outputs": [
        {
          "output_type": "stream",
          "text": [
            "h1, h2 {margin: 10px 25px 5px;}h2 {font-size: 1.1em;}.filename {font-style: italic;}.exceptionMessage {margin: 10px;border: 1px solid #000;padding: 5px;background-color: #E9E9E9;}.stack,.snippet {margin: 0 25px 10px;}.stack,.snippet {border: 1px solid #ccc;-mox-box-shadow: 0 0 2px rgba(0,0,0,0.2);-webkit-box-shadow: 0 0 2px rgba(0,0,0,0.2);box-shadow: 0 0 2px rgba(0,0,0,0.2);}.error-details {border-top: 1px solid #FFAAAA;-mox-box-shadow: 0 0 2px rgba(0,0,0,0.2);-webkit-box-shadow: 0 0 2px rgba(0,0,0,0.2);box-shadow: 0 0 2px rgba(0,0,0,0.2);border-bottom: 1px solid #FFAAAA;-mox-box-shadow: 0 0 2px rgba(0,0,0,0.2);-webkit-box-shadow: 0 0 2px rgba(0,0,0,0.2);box-shadow: 0 0 2px rgba(0,0,0,0.2);background-color:#FFF3F3;line-height: 1.5;overflow: hidden;padding: 5px;padding-left:25px;}.error-details dt {clear: left;float: left;font-weight: bold;margin-right: 5px;}.error-details dt:after {content: \":\";}.error-details dd {display: block;}.stack {padding: 5px;overflow: auto;height: 150px;}.snippet {background-color: #fff;font-family: monospace;}.snippet .line {display: block;}.snippet .lineNumber {background-color: #ddd;color: #999;display: inline-block;margin-right: 5px;padding: 0 3px;text-align: right;width: 3em;}.snippet .error {background-color: #fff3f3;font-weight: bold;}.snippet .error .lineNumber {background-color: #faa;color: #333;font-weight: bold;}.snippet .line:first-child .lineNumber {padding-top: 5px;}.snippet .line:last-child .lineNumber {padding-bottom: 5px;}\n"
          ],
          "name": "stdout"
        }
      ]
    },
    {
      "cell_type": "markdown",
      "metadata": {
        "id": "UvaDc5_fw92q"
      },
      "source": [
        "### Rerading the Jupyter Way"
      ]
    },
    {
      "cell_type": "code",
      "metadata": {
        "colab": {
          "base_uri": "https://localhost:8080/"
        },
        "id": "92bHDHG_5kMo",
        "outputId": "a823b953-9c07-47b8-8b80-e24ec930fc7b"
      },
      "source": [
        "from os import listdir\n",
        "listdir(\"/content/NLP_notebooks/data/Basics_NLP/dirForBasics_NLP\")"
      ],
      "execution_count": 17,
      "outputs": [
        {
          "output_type": "execute_result",
          "data": {
            "text/plain": [
              "['test2.txt', 'test1.txt']"
            ]
          },
          "metadata": {
            "tags": []
          },
          "execution_count": 17
        }
      ]
    },
    {
      "cell_type": "code",
      "metadata": {
        "colab": {
          "base_uri": "https://localhost:8080/"
        },
        "id": "t3A-svklw92q",
        "outputId": "1828d9d8-dac1-430b-9ebc-49b189e3edc1"
      },
      "source": [
        "a = listdir(\"/content/NLP_notebooks/data/Basics_NLP/dirForBasics_NLP\")\n",
        "\n",
        "for files in a:\n",
        "    f = open('/content/NLP_notebooks/data/Basics_NLP/dirForBasics_NLP/'+files).read()\n",
        "    print f[:40]"
      ],
      "execution_count": 20,
      "outputs": [
        {
          "output_type": "stream",
          "text": [
            "void datatolrt(Mat& generate, Mat& rehrl\n",
            "void show_LRT(Mat);\n",
            "void upsample(Mat);\n",
            "\n"
          ],
          "name": "stdout"
        }
      ]
    },
    {
      "cell_type": "markdown",
      "metadata": {
        "id": "WEsakUmDw92r"
      },
      "source": [
        "### Practice\n",
        "\n",
        " 1. How do you read a file to the memory and split it line by line\n",
        " 2. How do you read line by line to the memory?\n",
        " \n",
        " Hint : `splitlines() or split()`, `with .. as ..`"
      ]
    },
    {
      "cell_type": "code",
      "metadata": {
        "colab": {
          "base_uri": "https://localhost:8080/"
        },
        "id": "py1CJwB27ob9",
        "outputId": "f469817a-6667-48ed-a277-3a6700b6cdfc"
      },
      "source": [
        "#How do you read a file to the memory and split it line by line\n",
        "filename =\"/content/NLP_notebooks/data/Basics_NLP/gaur.txt\"\n",
        "with open(filename, 'r') as f:\n",
        "    text = f.read()\n",
        "    test=text.split('\\n')\n",
        "    print(text)\n",
        "    print (test)"
      ],
      "execution_count": 24,
      "outputs": [
        {
          "output_type": "stream",
          "text": [
            "Love is everlasting Forgiveness.\n",
            "Having free time is not an opulence, it's a danger.\n",
            "Krishna is the Supreme Personality of Godhead. \n",
            "['Love is everlasting Forgiveness.', \"Having free time is not an opulence, it's a danger.\", 'Krishna is the Supreme Personality of Godhead. ']\n"
          ],
          "name": "stdout"
        }
      ]
    },
    {
      "cell_type": "code",
      "metadata": {
        "colab": {
          "base_uri": "https://localhost:8080/"
        },
        "id": "IoDk2wbf81M2",
        "outputId": "18c20294-068c-4752-a5a1-e31ef61eef00"
      },
      "source": [
        "\n",
        "#How do you read line by line to the memory?\n",
        "with open(filename, 'r') as f:\n",
        "  while 1:\n",
        "    text = f.readline()\n",
        "    if not text:\n",
        "      break\n",
        "    else :\n",
        "      print (text)"
      ],
      "execution_count": 31,
      "outputs": [
        {
          "output_type": "stream",
          "text": [
            "Love is everlasting Forgiveness.\n",
            "\n",
            "Having free time is not an opulence, it's a danger.\n",
            "\n",
            "Krishna is the Supreme Personality of Godhead. \n"
          ],
          "name": "stdout"
        }
      ]
    }
  ]
}