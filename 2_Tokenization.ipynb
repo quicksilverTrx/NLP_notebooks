{
  "nbformat": 4,
  "nbformat_minor": 0,
  "metadata": {
    "kernelspec": {
      "display_name": "Python 2",
      "language": "python",
      "name": "python2"
    },
    "language_info": {
      "codemirror_mode": {
        "name": "ipython",
        "version": 2
      },
      "file_extension": ".py",
      "mimetype": "text/x-python",
      "name": "python",
      "nbconvert_exporter": "python",
      "pygments_lexer": "ipython2",
      "version": "2.7.11"
    },
    "colab": {
      "name": "Copy of 2.Tokenization.ipynb",
      "provenance": [],
      "include_colab_link": true
    }
  },
  "cells": [
    {
      "cell_type": "markdown",
      "metadata": {
        "id": "view-in-github",
        "colab_type": "text"
      },
      "source": [
        "<a href=\"https://colab.research.google.com/github/quicksilverTrx/NLP_notebooks/blob/main/2_Tokenization.ipynb\" target=\"_parent\"><img src=\"https://colab.research.google.com/assets/colab-badge.svg\" alt=\"Open In Colab\"/></a>"
      ]
    },
    {
      "cell_type": "markdown",
      "metadata": {
        "id": "w7k_HFSp_piL"
      },
      "source": [
        "# Tokenization"
      ]
    },
    {
      "cell_type": "markdown",
      "metadata": {
        "id": "e0L-nnU0_piS"
      },
      "source": [
        "## Frequency of words in a file\n",
        "Now we will read a sample chat file and then try to find the frequency of words in it."
      ]
    },
    {
      "cell_type": "code",
      "metadata": {
        "collapsed": true,
        "id": "XKGVVPkK_piU",
        "colab": {
          "base_uri": "https://localhost:8080/"
        },
        "outputId": "b07b8a02-06cc-4d2c-e9e1-8469eda9e34e"
      },
      "source": [
        "!git clone https://github.com/quicksilverTrx/NLP_notebooks"
      ],
      "execution_count": 17,
      "outputs": [
        {
          "output_type": "stream",
          "text": [
            "fatal: destination path 'NLP_notebooks' already exists and is not an empty directory.\n"
          ],
          "name": "stdout"
        }
      ]
    },
    {
      "cell_type": "code",
      "metadata": {
        "id": "zgtRmj-m_piU"
      },
      "source": [
        "%matplotlib inline\n",
        "import string\n",
        "import matplotlib.pyplot as plt\n",
        "import nltk\n",
        "f=open('/content/NLP_notebooks/data/Tokenization/Chat1.txt','r')\n",
        "content=f.read()\n",
        "wordlist=string.split(content)"
      ],
      "execution_count": 18,
      "outputs": []
    },
    {
      "cell_type": "code",
      "metadata": {
        "id": "PiCbNx5u_piV",
        "colab": {
          "base_uri": "https://localhost:8080/",
          "height": 269
        },
        "outputId": "1a54d1e6-c55d-4aa2-fff1-46f5076a3591"
      },
      "source": [
        "wordset=set(wordlist)\n",
        "y=[]\n",
        "for item in wordset:\n",
        "    y.append(wordlist.count(item))\n",
        "#print y\n",
        "N = len(y)\n",
        "x = range(N)\n",
        "width = 1/0.5\n",
        "plt.bar(x, y, width, color=\"blue\")\n",
        "plt.show()\n"
      ],
      "execution_count": 19,
      "outputs": [
        {
          "output_type": "display_data",
          "data": {
            "image/png": "[encoded data removed]",
            "text/plain": [
              "<Figure size 432x288 with 1 Axes>"
            ]
          },
          "metadata": {
            "tags": [],
            "needs_background": "light"
          }
        }
      ]
    },
    {
      "cell_type": "markdown",
      "metadata": {
        "id": "RXImvA4p_piW"
      },
      "source": [
        "## Lowercasing all words"
      ]
    },
    {
      "cell_type": "code",
      "metadata": {
        "id": "yTkMmchZ_piW",
        "colab": {
          "base_uri": "https://localhost:8080/",
          "height": 269
        },
        "outputId": "f97e848d-d483-4633-a837-5c3b855767d1"
      },
      "source": [
        "i=0\n",
        "for word1 in wordlist:\n",
        "    wordlist[i]=word1.lower()\n",
        "    i=i+1    \n",
        "wordset=set(wordlist)\n",
        "y=[]\n",
        "for item in wordset:\n",
        "    y.append(wordlist.count(item))\n",
        "N = len(y)\n",
        "x = range(N)\n",
        "width = 1/0.5\n",
        "plt.bar(x, y, width, color=\"blue\")\n",
        "plt.show()\n"
      ],
      "execution_count": 20,
      "outputs": [
        {
          "output_type": "display_data",
          "data": {
            "image/png": "[encoded data removed]",
            "text/plain": [
              "<Figure size 432x288 with 1 Axes>"
            ]
          },
          "metadata": {
            "tags": [],
            "needs_background": "light"
          }
        }
      ]
    },
    {
      "cell_type": "markdown",
      "metadata": {
        "id": "DACntJ1v_piX"
      },
      "source": [
        "## LowerCase And Removal of Punctuation Marks"
      ]
    },
    {
      "cell_type": "code",
      "metadata": {
        "id": "ue1ZP2jI_piX",
        "colab": {
          "base_uri": "https://localhost:8080/",
          "height": 269
        },
        "outputId": "a03a9a64-28dc-4307-bf67-1fdd4a9c0124"
      },
      "source": [
        "i=0\n",
        "for word1 in wordlist:\n",
        "    wordlist[i]=word1.lower()\n",
        "    #Takes Care of Multiple Punctuation Marks\n",
        "    wordlist[i]=word1.replace('.','').replace(',','').replace(':','').replace(';','').replace('!','').replace('?','').replace('(','').replace(')','')      \n",
        "    i=i+1    \n",
        "wordset=set(wordlist)\n",
        "y=[]\n",
        "for item in wordset:\n",
        "    y.append(wordlist.count(item))\n",
        "N = len(y)\n",
        "x = range(N)\n",
        "width = 1/0.5\n",
        "plt.bar(x, y, width, color=\"blue\")\n",
        "plt.show()\n"
      ],
      "execution_count": 21,
      "outputs": [
        {
          "output_type": "display_data",
          "data": {
            "image/png": "[encoded data removed]",
            "text/plain": [
              "<Figure size 432x288 with 1 Axes>"
            ]
          },
          "metadata": {
            "tags": [],
            "needs_background": "light"
          }
        }
      ]
    },
    {
      "cell_type": "markdown",
      "metadata": {
        "id": "rAMXEfA5_piY"
      },
      "source": [
        "## Noise Removal (slangs used in chat/message)\n",
        "Examples covered patterns like hhhhhhh, yeah|yup -> yes, u -> you, gr8 -> great"
      ]
    },
    {
      "cell_type": "code",
      "metadata": {
        "id": "iH4RTTtE_piY",
        "colab": {
          "base_uri": "https://localhost:8080/",
          "height": 269
        },
        "outputId": "af9f78af-be16-4d22-c6c9-4796abe5a4d2"
      },
      "source": [
        "import re\n",
        "i=0\n",
        "for word1 in wordlist:\n",
        "    wordlist[i]=word1.lower()\n",
        "    wordlist[i]=word1.replace('.','').replace(',','').replace(':','').replace(';','').replace('!','').replace('?','').replace('(','').replace(')','')       \n",
        "    searchObj= re.search(r'aaa+|bbb+|ccc+|ddd+|eee+|fff+|ggg+|hhh+|iii+|jjj+|kkk+|lll+|mmm+|nnn+|ooo+|ppp+|qqq+|rrr+|sss+|ttt+|uuu+|vvv+|www+|xxx+|yyy+|zzz+',word1,re.M|re.I)\n",
        "    if searchObj:\n",
        "        strpattern=searchObj.group()\n",
        "        wordlist[i]=word1.replace(strpattern,strpattern[0])\n",
        "    searchObj=re.search(r'yeah|yup',word1,re.M|re.I)\n",
        "    if searchObj:\n",
        "        wordlist[i]=word1.replace(searchObj.group(),\"yes\")\n",
        "    if(word1==\"gr8\"):\n",
        "        wordlist[i]=\"great\"  \n",
        "    if(word1==\"u\"):\n",
        "        wordlist[i]=\"you\"\n",
        "    i=i+1   \n",
        "wordset=set(wordlist)\n",
        "y=[]\n",
        "for item in wordset:\n",
        "    y.append(wordlist.count(item))\n",
        "N = len(y)\n",
        "x = range(N)\n",
        "width = 1/0.5\n",
        "plt.bar(x, y, width, color=\"blue\")\n",
        "plt.show()"
      ],
      "execution_count": 22,
      "outputs": [
        {
          "output_type": "display_data",
          "data": {
            "image/png": "[encoded data removed]",
            "text/plain": [
              "<Figure size 432x288 with 1 Axes>"
            ]
          },
          "metadata": {
            "tags": [],
            "needs_background": "light"
          }
        }
      ]
    },
    {
      "cell_type": "markdown",
      "metadata": {
        "id": "enN8tcXy_piZ"
      },
      "source": [
        "## Using NLTK "
      ]
    },
    {
      "cell_type": "code",
      "metadata": {
        "id": "03vNTi9L_piZ",
        "colab": {
          "base_uri": "https://localhost:8080/"
        },
        "outputId": "3c7134cb-ccc3-4504-8728-47010e483f3e"
      },
      "source": [
        "import nltk\n",
        "nltk.download(\"book\")\n",
        "# A GUI window will appear\n",
        "# GO to 'collections' tab, and doubleclick on \"Everything used in NLTK book\""
      ],
      "execution_count": 23,
      "outputs": [
        {
          "output_type": "stream",
          "text": [
            "[nltk_data] Downloading collection u'book'\n",
            "[nltk_data]    | \n",
            "[nltk_data]    | Downloading package abc to /root/nltk_data...\n",
            "[nltk_data]    |   Package abc is already up-to-date!\n",
            "[nltk_data]    | Downloading package brown to /root/nltk_data...\n",
            "[nltk_data]    |   Package brown is already up-to-date!\n",
            "[nltk_data]    | Downloading package chat80 to /root/nltk_data...\n",
            "[nltk_data]    |   Package chat80 is already up-to-date!\n",
            "[nltk_data]    | Downloading package cmudict to /root/nltk_data...\n",
            "[nltk_data]    |   Package cmudict is already up-to-date!\n",
            "[nltk_data]    | Downloading package conll2000 to /root/nltk_data...\n",
            "[nltk_data]    |   Package conll2000 is already up-to-date!\n",
            "[nltk_data]    | Downloading package conll2002 to /root/nltk_data...\n",
            "[nltk_data]    |   Package conll2002 is already up-to-date!\n",
            "[nltk_data]    | Downloading package dependency_treebank to\n",
            "[nltk_data]    |     /root/nltk_data...\n",
            "[nltk_data]    |   Package dependency_treebank is already up-to-date!\n",
            "[nltk_data]    | Downloading package genesis to /root/nltk_data...\n",
            "[nltk_data]    |   Package genesis is already up-to-date!\n",
            "[nltk_data]    | Downloading package gutenberg to /root/nltk_data...\n",
            "[nltk_data]    |   Package gutenberg is already up-to-date!\n",
            "[nltk_data]    | Downloading package ieer to /root/nltk_data...\n",
            "[nltk_data]    |   Package ieer is already up-to-date!\n",
            "[nltk_data]    | Downloading package inaugural to /root/nltk_data...\n",
            "[nltk_data]    |   Package inaugural is already up-to-date!\n",
            "[nltk_data]    | Downloading package movie_reviews to\n",
            "[nltk_data]    |     /root/nltk_data...\n",
            "[nltk_data]    |   Package movie_reviews is already up-to-date!\n",
            "[nltk_data]    | Downloading package nps_chat to /root/nltk_data...\n",
            "[nltk_data]    |   Package nps_chat is already up-to-date!\n",
            "[nltk_data]    | Downloading package names to /root/nltk_data...\n",
            "[nltk_data]    |   Package names is already up-to-date!\n",
            "[nltk_data]    | Downloading package ppattach to /root/nltk_data...\n",
            "[nltk_data]    |   Package ppattach is already up-to-date!\n",
            "[nltk_data]    | Downloading package reuters to /root/nltk_data...\n",
            "[nltk_data]    |   Package reuters is already up-to-date!\n",
            "[nltk_data]    | Downloading package senseval to /root/nltk_data...\n",
            "[nltk_data]    |   Package senseval is already up-to-date!\n",
            "[nltk_data]    | Downloading package state_union to /root/nltk_data...\n",
            "[nltk_data]    |   Package state_union is already up-to-date!\n",
            "[nltk_data]    | Downloading package stopwords to /root/nltk_data...\n",
            "[nltk_data]    |   Package stopwords is already up-to-date!\n",
            "[nltk_data]    | Downloading package swadesh to /root/nltk_data...\n",
            "[nltk_data]    |   Package swadesh is already up-to-date!\n",
            "[nltk_data]    | Downloading package timit to /root/nltk_data...\n",
            "[nltk_data]    |   Package timit is already up-to-date!\n",
            "[nltk_data]    | Downloading package treebank to /root/nltk_data...\n",
            "[nltk_data]    |   Package treebank is already up-to-date!\n",
            "[nltk_data]    | Downloading package toolbox to /root/nltk_data...\n",
            "[nltk_data]    |   Package toolbox is already up-to-date!\n",
            "[nltk_data]    | Downloading package udhr to /root/nltk_data...\n",
            "[nltk_data]    |   Package udhr is already up-to-date!\n",
            "[nltk_data]    | Downloading package udhr2 to /root/nltk_data...\n",
            "[nltk_data]    |   Package udhr2 is already up-to-date!\n",
            "[nltk_data]    | Downloading package unicode_samples to\n",
            "[nltk_data]    |     /root/nltk_data...\n",
            "[nltk_data]    |   Package unicode_samples is already up-to-date!\n",
            "[nltk_data]    | Downloading package webtext to /root/nltk_data...\n",
            "[nltk_data]    |   Package webtext is already up-to-date!\n",
            "[nltk_data]    | Downloading package wordnet to /root/nltk_data...\n",
            "[nltk_data]    |   Package wordnet is already up-to-date!\n",
            "[nltk_data]    | Downloading package wordnet_ic to /root/nltk_data...\n",
            "[nltk_data]    |   Package wordnet_ic is already up-to-date!\n",
            "[nltk_data]    | Downloading package words to /root/nltk_data...\n",
            "[nltk_data]    |   Package words is already up-to-date!\n",
            "[nltk_data]    | Downloading package maxent_treebank_pos_tagger to\n",
            "[nltk_data]    |     /root/nltk_data...\n",
            "[nltk_data]    |   Package maxent_treebank_pos_tagger is already up-\n",
            "[nltk_data]    |       to-date!\n",
            "[nltk_data]    | Downloading package maxent_ne_chunker to\n",
            "[nltk_data]    |     /root/nltk_data...\n",
            "[nltk_data]    |   Package maxent_ne_chunker is already up-to-date!\n",
            "[nltk_data]    | Downloading package universal_tagset to\n",
            "[nltk_data]    |     /root/nltk_data...\n",
            "[nltk_data]    |   Package universal_tagset is already up-to-date!\n",
            "[nltk_data]    | Downloading package punkt to /root/nltk_data...\n",
            "[nltk_data]    |   Package punkt is already up-to-date!\n",
            "[nltk_data]    | Downloading package book_grammars to\n",
            "[nltk_data]    |     /root/nltk_data...\n",
            "[nltk_data]    |   Package book_grammars is already up-to-date!\n",
            "[nltk_data]    | Downloading package city_database to\n",
            "[nltk_data]    |     /root/nltk_data...\n",
            "[nltk_data]    |   Package city_database is already up-to-date!\n",
            "[nltk_data]    | Downloading package tagsets to /root/nltk_data...\n",
            "[nltk_data]    |   Package tagsets is already up-to-date!\n",
            "[nltk_data]    | Downloading package panlex_swadesh to\n",
            "[nltk_data]    |     /root/nltk_data...\n",
            "[nltk_data]    |   Package panlex_swadesh is already up-to-date!\n",
            "[nltk_data]    | Downloading package averaged_perceptron_tagger to\n",
            "[nltk_data]    |     /root/nltk_data...\n",
            "[nltk_data]    |   Package averaged_perceptron_tagger is already up-\n",
            "[nltk_data]    |       to-date!\n",
            "[nltk_data]    | \n",
            "[nltk_data]  Done downloading collection book\n"
          ],
          "name": "stdout"
        },
        {
          "output_type": "execute_result",
          "data": {
            "text/plain": [
              "True"
            ]
          },
          "metadata": {
            "tags": []
          },
          "execution_count": 23
        }
      ]
    },
    {
      "cell_type": "code",
      "metadata": {
        "id": "qpSe8poL_piZ",
        "colab": {
          "base_uri": "https://localhost:8080/",
          "height": 269
        },
        "outputId": "ed469927-347c-477f-e409-c43d28c42189"
      },
      "source": [
        "wordlist = nltk.word_tokenize(content)\n",
        "wordset=set(wordlist)\n",
        "y=[]\n",
        "for item in wordset:\n",
        "    y.append(wordlist.count(item))\n",
        "N = len(y)\n",
        "x = range(N)\n",
        "width = 1/0.5\n",
        "plt.bar(x, y, width, color=\"blue\")\n",
        "plt.show()\n"
      ],
      "execution_count": 24,
      "outputs": [
        {
          "output_type": "display_data",
          "data": {
            "image/png": "[encoded data removed]",
            "text/plain": [
              "<Figure size 432x288 with 1 Axes>"
            ]
          },
          "metadata": {
            "tags": [],
            "needs_background": "light"
          }
        }
      ]
    },
    {
      "cell_type": "markdown",
      "metadata": {
        "id": "3qs2jCVN_pia"
      },
      "source": [
        "## Using NLTK on a proper dataset from gutenberg corpus"
      ]
    },
    {
      "cell_type": "code",
      "metadata": {
        "colab": {
          "base_uri": "https://localhost:8080/"
        },
        "id": "ONe7-4k6L0PN",
        "outputId": "212be9e1-8059-48db-b27f-d968d9aae331"
      },
      "source": [
        "print(nltk.corpus.gutenberg.fileids()[0])\n",
        "print(nltk.corpus.gutenberg.fileids()[1])\n",
        "book1=nltk.corpus.gutenberg.fileids()[0]\n",
        "book2=nltk.corpus.gutenberg.fileids()[1]"
      ],
      "execution_count": 42,
      "outputs": [
        {
          "output_type": "stream",
          "text": [
            "austen-emma.txt\n",
            "austen-persuasion.txt\n"
          ],
          "name": "stdout"
        }
      ]
    },
    {
      "cell_type": "code",
      "metadata": {
        "collapsed": true,
        "id": "Gn8i0Fiy_pib"
      },
      "source": [
        "content = nltk.corpus.gutenberg.raw(nltk.corpus.gutenberg.fileids()[0])"
      ],
      "execution_count": 26,
      "outputs": []
    },
    {
      "cell_type": "code",
      "metadata": {
        "colab": {
          "base_uri": "https://localhost:8080/"
        },
        "id": "4CrecusJHgko",
        "outputId": "8cc02814-fc30-4f5c-ca8b-8b63fd5f6fb6"
      },
      "source": [
        "print(\"Type of Content \", type(content))\n",
        "print(\"Length of File \",len(content))"
      ],
      "execution_count": 38,
      "outputs": [
        {
          "output_type": "stream",
          "text": [
            "('Type of Content ', <type 'unicode'>)\n",
            "('Length of File ', 887071)\n"
          ],
          "name": "stdout"
        }
      ]
    },
    {
      "cell_type": "code",
      "metadata": {
        "id": "yU9tWXWG_pib",
        "colab": {
          "base_uri": "https://localhost:8080/",
          "height": 269
        },
        "outputId": "d416e4bc-ec5e-457c-dfda-6d0809515585"
      },
      "source": [
        "awordlist = nltk.word_tokenize(content)\n",
        "wordset=set(wordlist)\n",
        "y=[]\n",
        "for item in wordset:\n",
        "    y.append(wordlist.count(item))\n",
        "N = len(y)\n",
        "x = range(N)\n",
        "width = 20\n",
        "plt.bar(x, y, width, color=\"blue\",snap= False )\n",
        "plt.show()\n"
      ],
      "execution_count": 31,
      "outputs": [
        {
          "output_type": "display_data",
          "data": {
            "image/png": "[encoded data removed]",
            "text/plain": [
              "<Figure size 432x288 with 1 Axes>"
            ]
          },
          "metadata": {
            "tags": [],
            "needs_background": "light"
          }
        }
      ]
    },
    {
      "cell_type": "markdown",
      "metadata": {
        "id": "1526wRLc_pib"
      },
      "source": [
        "## Using Stemmer"
      ]
    },
    {
      "cell_type": "code",
      "metadata": {
        "id": "WQNq5PIx_pib",
        "colab": {
          "base_uri": "https://localhost:8080/",
          "height": 269
        },
        "outputId": "fa508995-36f3-4578-fdef-208cc8794cec"
      },
      "source": [
        "def stemmer(content):\n",
        "  porter = nltk.PorterStemmer()\n",
        "  wordlist = nltk.word_tokenize(content)\n",
        "  i=0\n",
        "  for word1 in wordlist:\n",
        "      wordlist[i]=porter.stem(word1)\n",
        "      i=i+1\n",
        "  #print wordlist\n",
        "  wordset=set(wordlist)\n",
        "  y=[]\n",
        "  for item in wordset:\n",
        "      y.append(wordlist.count(item))\n",
        "  N = len(y)\n",
        "  x = range(N)\n",
        "  width = 20\n",
        "  plt.bar(x, y, width, color=\"blue\",snap= False )\n",
        "  plt.show()\n",
        "stemmer(content)"
      ],
      "execution_count": 40,
      "outputs": [
        {
          "output_type": "display_data",
          "data": {
            "image/png": "[encoded data removed]",
            "text/plain": [
              "<Figure size 432x288 with 1 Axes>"
            ]
          },
          "metadata": {
            "tags": [],
            "needs_background": "light"
          }
        }
      ]
    },
    {
      "cell_type": "markdown",
      "metadata": {
        "id": "oXXiYZOR_pic"
      },
      "source": [
        "## Using WordnetLemmatizer"
      ]
    },
    {
      "cell_type": "code",
      "metadata": {
        "id": "-spnkmIh_pic",
        "colab": {
          "base_uri": "https://localhost:8080/",
          "height": 269
        },
        "outputId": "ca8bc60e-736d-4cc4-e4dc-da1d3e2b90b5"
      },
      "source": [
        "def lemmatize(content):\n",
        "  wordlist = nltk.word_tokenize(content)\n",
        "  wnl = nltk.WordNetLemmatizer()\n",
        "  i=0\n",
        "  for word1 in wordlist:\n",
        "    wordlist[i]= wnl.lemmatize(word1)\n",
        "    i=i+1\n",
        "  wordset=set(wordlist)\n",
        "  y=[]\n",
        "  for item in wordset:\n",
        "      y.append(wordlist.count(item))\n",
        "  N = len(y)\n",
        "  x = range(N)\n",
        "  width = 20\n",
        "  plt.bar(x, y, width, color=\"blue\",snap= False )\n",
        "  plt.show()\n",
        "lemmatize(content)"
      ],
      "execution_count": 39,
      "outputs": [
        {
          "output_type": "display_data",
          "data": {
            "image/png": "[encoded data removed]",
            "text/plain": [
              "<Figure size 432x288 with 1 Axes>"
            ]
          },
          "metadata": {
            "tags": [],
            "needs_background": "light"
          }
        }
      ]
    },
    {
      "cell_type": "markdown",
      "metadata": {
        "id": "Q0rSSByF_pic"
      },
      "source": [
        "\n",
        "\n",
        " 1. Can you compare the time comparision between lemmatisation and stemming using timeit magic for datasets of varying sizes?\n",
        " 2. Can you comapre the vocabulary sizes between different datasets ?"
      ]
    },
    {
      "cell_type": "code",
      "metadata": {
        "colab": {
          "base_uri": "https://localhost:8080/"
        },
        "id": "ictEWD_VMOKe",
        "outputId": "70f21832-7b91-4125-9c1f-41f4cd3842bc"
      },
      "source": [
        "print(nltk.corpus.gutenberg.fileids()[0])\n",
        "print(nltk.corpus.gutenberg.fileids()[1])\n",
        "book1=nltk.corpus.gutenberg.fileids()[0]\n",
        "book2=nltk.corpus.gutenberg.fileids()[1]"
      ],
      "execution_count": 43,
      "outputs": [
        {
          "output_type": "stream",
          "text": [
            "austen-emma.txt\n",
            "austen-persuasion.txt\n"
          ],
          "name": "stdout"
        }
      ]
    },
    {
      "cell_type": "code",
      "metadata": {
        "colab": {
          "base_uri": "https://localhost:8080/",
          "height": 1000
        },
        "id": "rRsLamC1MZ52",
        "outputId": "7603f0af-8299-4b4d-fc09-c8e850137ae1"
      },
      "source": [
        "content1 = nltk.corpus.gutenberg.raw(book1)\n",
        "content2 = nltk.corpus.gutenberg.raw(book2)\n",
        "print(\"Length of Book\",nltk.corpus.gutenberg.fileids()[0],len(content1))\n",
        "print(\"Length of Book\",nltk.corpus.gutenberg.fileids()[1],len(content2))\n",
        "%timeit -n 1 -r 1 lemmatize(content1)\n",
        "%timeit -n 1 -r 1 stemmer(content1)\n",
        "%timeit -n 1 -r 1 lemmatize(content2)\n",
        "%timeit -n 1 -r 1 stemmer(content2)"
      ],
      "execution_count": 49,
      "outputs": [
        {
          "output_type": "stream",
          "text": [
            "('Length of Book', u'austen-emma.txt', 887071)\n",
            "('Length of Book', u'austen-persuasion.txt', 466292)\n"
          ],
          "name": "stdout"
        },
        {
          "output_type": "display_data",
          "data": {
            "image/png": "[encoded data removed]",
            "text/plain": [
              "<Figure size 432x288 with 1 Axes>"
            ]
          },
          "metadata": {
            "tags": [],
            "needs_background": "light"
          }
        },
        {
          "output_type": "stream",
          "text": [
            "1 loop, best of 1: 42.6 s per loop\n"
          ],
          "name": "stdout"
        },
        {
          "output_type": "display_data",
          "data": {
            "image/png": "[encoded data removed]",
            "text/plain": [
              "<Figure size 432x288 with 1 Axes>"
            ]
          },
          "metadata": {
            "tags": [],
            "needs_background": "light"
          }
        },
        {
          "output_type": "stream",
          "text": [
            "1 loop, best of 1: 32.4 s per loop\n"
          ],
          "name": "stdout"
        },
        {
          "output_type": "display_data",
          "data": {
            "image/png": "[encoded data removed]",
            "text/plain": [
              "<Figure size 432x288 with 1 Axes>"
            ]
          },
          "metadata": {
            "tags": [],
            "needs_background": "light"
          }
        },
        {
          "output_type": "stream",
          "text": [
            "1 loop, best of 1: 19.9 s per loop\n"
          ],
          "name": "stdout"
        },
        {
          "output_type": "display_data",
          "data": {
            "image/png": "[encoded data removed]",
            "text/plain": [
              "<Figure size 432x288 with 1 Axes>"
            ]
          },
          "metadata": {
            "tags": [],
            "needs_background": "light"
          }
        },
        {
          "output_type": "stream",
          "text": [
            "1 loop, best of 1: 15.2 s per loop\n"
          ],
          "name": "stdout"
        }
      ]
    },
    {
      "cell_type": "markdown",
      "metadata": {
        "collapsed": true,
        "id": "qoCCv6R__pid"
      },
      "source": [
        "## References\n",
        "NLTK Book http://www.nltk.org/book/\n",
        "\n"
      ]
    },
    {
      "cell_type": "code",
      "metadata": {
        "collapsed": true,
        "id": "1Mq7JnJy_pid"
      },
      "source": [
        ""
      ],
      "execution_count": null,
      "outputs": []
    }
  ]
}